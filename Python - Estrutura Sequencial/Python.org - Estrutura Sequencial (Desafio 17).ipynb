{
 "cells": [
  {
   "cell_type": "code",
   "execution_count": null,
   "id": "f704985c",
   "metadata": {},
   "outputs": [],
   "source": [
    "Python - Lista de Exercícios (Estrutura Sequencial) \n",
    "link: https://wiki.python.org.br/EstruturaSequencial"
   ]
  },
  {
   "cell_type": "markdown",
   "id": "f36f0365",
   "metadata": {},
   "source": [
    "17) Faça um Programa para uma loja de tintas. O programa deverá pedir o tamanho em metros quadrados da área a ser pintada. Considere que a cobertura da tinta é de 1 litro para cada 6 metros quadrados e que a tinta é vendida em latas de 18 litros, que custam 80,00 reais ou em galões de 3,6 litros, que custam 25,00 reais. Informe ao usuário as quantidades de tinta a serem compradas e os respectivos preços em 3 situações:\n",
    "- comprar apenas latas de 18 litros;\n",
    "- comprar apenas galões de 3,6 litros;\n",
    "- misturar latas e galões, de forma que o desperdício de tinta seja menor. Acrescente 10% de folga e sempre arredonde os valores para cima, isto é, considere latas cheias."
   ]
  },
  {
   "cell_type": "code",
   "execution_count": null,
   "id": "291025e7",
   "metadata": {},
   "outputs": [],
   "source": [
    "Obs.: Visando desenvolver o programa de forma mais dinâmica e menos suscetível a erros, adicionei \n",
    "outras estruturas no corpo do código. De modo que apenas números sejam aceitos e, somente os positivos \n",
    "maiores do que zero, se apliquem às equações. "
   ]
  },
  {
   "cell_type": "code",
   "execution_count": null,
   "id": "eb6d47b6",
   "metadata": {},
   "outputs": [],
   "source": [
    "from math import ceil\n",
    "while True: \n",
    "  q = input(\"Tamanho da área em metros quadrados: \")\n",
    "  try:\n",
    "    float(q)\n",
    "    break\n",
    "  except:\n",
    "    print(\"Por favor, digite apenas números.\")\n",
    "    continue\n",
    "\n",
    "if float(q) <= 0:\n",
    "  print(\"Quantidade de latas/galões necessários: 0\")\n",
    "  print(\"Valor total: R$ 0,00\")\n",
    "\n",
    "else:  \n",
    "  print(\"\\nApenas latas de 18 litros: \")\n",
    "  a = float(q) / 6\n",
    "  b = ceil(a / 18)\n",
    "  c = b * 80\n",
    "  print(f\"Número de latas necessárias: {b}\")\n",
    "  print(f\"Preço total: R${c},00\\n\")\n",
    "\n",
    "  print(\"Apenas galões de 3.6 litros: \")\n",
    "  x = float(q) / 6\n",
    "  y = ceil(x / 3.6)\n",
    "  z = y * 25\n",
    "  print(f\"Número de galões necessários: {y}\")\n",
    "  print(f\"Preço total: R${z},00\\n\")\n",
    "  print(\"Latas e Galões: \")\n",
    "  \n",
    "  r = 0\n",
    "  s = 0\n",
    "  l = float(q) / 6\n",
    "  if l >= 18:\n",
    "    while l >= 18: \n",
    "      l = l - 18\n",
    "      r = r + 1\n",
    "    while l > 0 and l < 18:\n",
    "      l = l - 3.6\n",
    "      s = s + 1\n",
    "  elif l < 18 and l > 0:\n",
    "    while l < 18 and l > 0:\n",
    "      l = l - 3.6\n",
    "      s = s + 1\n",
    "\n",
    "  print(f\"Número de latas necessárias: {r}\")\n",
    "  print(f\"Número de galões necessárias: {s}\")\n",
    "  print(f\"Preço Total: R${r * 80 + s * 25},00\")"
   ]
  }
 ],
 "metadata": {
  "kernelspec": {
   "display_name": "Python 3 (ipykernel)",
   "language": "python",
   "name": "python3"
  },
  "language_info": {
   "codemirror_mode": {
    "name": "ipython",
    "version": 3
   },
   "file_extension": ".py",
   "mimetype": "text/x-python",
   "name": "python",
   "nbconvert_exporter": "python",
   "pygments_lexer": "ipython3",
   "version": "3.8.10"
  }
 },
 "nbformat": 4,
 "nbformat_minor": 5
}
